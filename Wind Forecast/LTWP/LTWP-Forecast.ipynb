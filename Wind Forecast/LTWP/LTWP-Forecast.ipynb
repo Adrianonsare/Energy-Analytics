{
 "cells": [
  {
   "cell_type": "code",
   "execution_count": null,
   "source": [],
   "outputs": [],
   "metadata": {}
  },
  {
   "cell_type": "markdown",
   "source": [
    "# Wind Power Prediction\n",
    "This notebook seeks to provide a forecast for LAke Turkana Wind Power Using the winpower lib library. \n",
    "It mainly follows these steps:\n",
    "- Importation of weather data using the open weather API\n",
    "- Data preparation: The imported data is read in as a dataframe and then the data prepared to a format compatible with windpowerlib\n",
    "- Data from the actual wind turbines is used to model and individual wind turbine\n",
    "- The windpowerlib functions are called to calculate the forecast time series for the whole farm\n"
   ],
   "metadata": {}
  },
  {
   "cell_type": "markdown",
   "source": [
    "### Import necessary packages and modules"
   ],
   "metadata": {}
  },
  {
   "cell_type": "code",
   "execution_count": 4,
   "source": [
    "import os\n",
    "import pandas as pd\n",
    "import requests\n",
    "import requests\n",
    "import json\n",
    "import matplotlib.pyplot as plt\n",
    "from pandas.io.json import json_normalize \n",
    "import config   \n",
    "\n",
    "from windpowerlib import ModelChain, WindTurbine, create_power_curve\n",
    "from windpowerlib import data as wt\n",
    "import datetime as datetime\n",
    "from datetime import date, timedelta"
   ],
   "outputs": [],
   "metadata": {}
  },
  {
   "cell_type": "code",
   "execution_count": 5,
   "source": [
    "plt.style.use('bmh')\n",
    "plt.figure(figsize=(12,7))"
   ],
   "outputs": [
    {
     "output_type": "execute_result",
     "data": {
      "text/plain": [
       "<Figure size 864x504 with 0 Axes>"
      ]
     },
     "metadata": {},
     "execution_count": 5
    },
    {
     "output_type": "display_data",
     "data": {
      "text/plain": [
       "<Figure size 864x504 with 0 Axes>"
      ]
     },
     "metadata": {}
    }
   ],
   "metadata": {}
  },
  {
   "cell_type": "code",
   "execution_count": null,
   "source": [],
   "outputs": [],
   "metadata": {}
  },
  {
   "cell_type": "markdown",
   "source": [
    "You can use the logging package to get logging messages from the windpowerlib. Change the logging level if you want more or less messages."
   ],
   "metadata": {}
  },
  {
   "cell_type": "code",
   "execution_count": 6,
   "source": [
    "import logging\n",
    "logging.getLogger().setLevel(logging.DEBUG)"
   ],
   "outputs": [],
   "metadata": {}
  },
  {
   "cell_type": "markdown",
   "source": [
    "### Import weather data\n",
    "\n",
    "In order to use the windpowerlib you need to at least provide wind speed data for the time frame you want to analyze.\n",
    "The function below imports example weather data from the weather.csv file provided along with the windpowerlib. The data includes wind speed at two different heights in m/s, air temperature in two different heights in K, surface roughness length in m and air pressure in Pa.\n",
    "\n",
    "To find out which weather data in which units need to be provided to use the ModelChain or other functions of the windpowerlib see the individual function documentation."
   ],
   "metadata": {}
  },
  {
   "cell_type": "code",
   "execution_count": 7,
   "source": [
    "#Coordinates of Lake Turkana Wind\n",
    "\n",
    "latitude = 2.48903\n",
    "longitude = 36.79317\n",
    "tz ='Africa/Nairobi'"
   ],
   "outputs": [],
   "metadata": {}
  },
  {
   "cell_type": "code",
   "execution_count": 8,
   "source": [
    "#subtract 12 days\n",
    "end=pd.Timestamp(datetime.date.today(), tz=tz) \n",
    "start = end - timedelta(12)"
   ],
   "outputs": [],
   "metadata": {}
  },
  {
   "cell_type": "markdown",
   "source": [
    "## API II"
   ],
   "metadata": {}
  },
  {
   "cell_type": "code",
   "execution_count": null,
   "source": [],
   "outputs": [],
   "metadata": {}
  },
  {
   "cell_type": "code",
   "execution_count": 11,
   "source": [
    "\n",
    "lat = latitude\n",
    "lon = longitude\n",
    "urls = \"https://api.openweathermap.org/data/2.5/forecast?lat=%s&lon=%s&appid=%s\" % (lat, lon, config.api_key)\n",
    "\n",
    "\n",
    "#https://api.weatherbit.io/v2.0/forecast/hourly\n",
    "\n",
    "#Website Actions\n",
    "jsonDatas = requests.get(urls).json()\n",
    "\n",
    "\n",
    "dat_weath = pd.DataFrame(jsonDatas['list']) \n",
    "dat_weath.head()"
   ],
   "outputs": [
    {
     "output_type": "execute_result",
     "data": {
      "text/html": [
       "<div>\n",
       "<style scoped>\n",
       "    .dataframe tbody tr th:only-of-type {\n",
       "        vertical-align: middle;\n",
       "    }\n",
       "\n",
       "    .dataframe tbody tr th {\n",
       "        vertical-align: top;\n",
       "    }\n",
       "\n",
       "    .dataframe thead th {\n",
       "        text-align: right;\n",
       "    }\n",
       "</style>\n",
       "<table border=\"1\" class=\"dataframe\">\n",
       "  <thead>\n",
       "    <tr style=\"text-align: right;\">\n",
       "      <th></th>\n",
       "      <th>dt</th>\n",
       "      <th>main</th>\n",
       "      <th>weather</th>\n",
       "      <th>clouds</th>\n",
       "      <th>wind</th>\n",
       "      <th>visibility</th>\n",
       "      <th>pop</th>\n",
       "      <th>sys</th>\n",
       "      <th>dt_txt</th>\n",
       "    </tr>\n",
       "  </thead>\n",
       "  <tbody>\n",
       "    <tr>\n",
       "      <th>0</th>\n",
       "      <td>1637344800</td>\n",
       "      <td>{'temp': 304.7, 'feels_like': 303.36, 'temp_mi...</td>\n",
       "      <td>[{'id': 801, 'main': 'Clouds', 'description': ...</td>\n",
       "      <td>{'all': 11}</td>\n",
       "      <td>{'speed': 9.46, 'deg': 118, 'gust': 13.91}</td>\n",
       "      <td>10000</td>\n",
       "      <td>0</td>\n",
       "      <td>{'pod': 'n'}</td>\n",
       "      <td>2021-11-19 18:00:00</td>\n",
       "    </tr>\n",
       "    <tr>\n",
       "      <th>1</th>\n",
       "      <td>1637355600</td>\n",
       "      <td>{'temp': 302.77, 'feels_like': 301.94, 'temp_m...</td>\n",
       "      <td>[{'id': 801, 'main': 'Clouds', 'description': ...</td>\n",
       "      <td>{'all': 14}</td>\n",
       "      <td>{'speed': 7.36, 'deg': 113, 'gust': 11.75}</td>\n",
       "      <td>10000</td>\n",
       "      <td>0</td>\n",
       "      <td>{'pod': 'n'}</td>\n",
       "      <td>2021-11-19 21:00:00</td>\n",
       "    </tr>\n",
       "    <tr>\n",
       "      <th>2</th>\n",
       "      <td>1637366400</td>\n",
       "      <td>{'temp': 300.23, 'feels_like': 300.18, 'temp_m...</td>\n",
       "      <td>[{'id': 803, 'main': 'Clouds', 'description': ...</td>\n",
       "      <td>{'all': 55}</td>\n",
       "      <td>{'speed': 7.46, 'deg': 104, 'gust': 11.89}</td>\n",
       "      <td>10000</td>\n",
       "      <td>0</td>\n",
       "      <td>{'pod': 'n'}</td>\n",
       "      <td>2021-11-20 00:00:00</td>\n",
       "    </tr>\n",
       "    <tr>\n",
       "      <th>3</th>\n",
       "      <td>1637377200</td>\n",
       "      <td>{'temp': 298.49, 'feels_like': 298.33, 'temp_m...</td>\n",
       "      <td>[{'id': 803, 'main': 'Clouds', 'description': ...</td>\n",
       "      <td>{'all': 73}</td>\n",
       "      <td>{'speed': 10.3, 'deg': 102, 'gust': 14.37}</td>\n",
       "      <td>10000</td>\n",
       "      <td>0</td>\n",
       "      <td>{'pod': 'n'}</td>\n",
       "      <td>2021-11-20 03:00:00</td>\n",
       "    </tr>\n",
       "    <tr>\n",
       "      <th>4</th>\n",
       "      <td>1637388000</td>\n",
       "      <td>{'temp': 301.12, 'feels_like': 301.65, 'temp_m...</td>\n",
       "      <td>[{'id': 803, 'main': 'Clouds', 'description': ...</td>\n",
       "      <td>{'all': 82}</td>\n",
       "      <td>{'speed': 9.3, 'deg': 112, 'gust': 10.27}</td>\n",
       "      <td>10000</td>\n",
       "      <td>0</td>\n",
       "      <td>{'pod': 'd'}</td>\n",
       "      <td>2021-11-20 06:00:00</td>\n",
       "    </tr>\n",
       "  </tbody>\n",
       "</table>\n",
       "</div>"
      ],
      "text/plain": [
       "           dt                                               main  \\\n",
       "0  1637344800  {'temp': 304.7, 'feels_like': 303.36, 'temp_mi...   \n",
       "1  1637355600  {'temp': 302.77, 'feels_like': 301.94, 'temp_m...   \n",
       "2  1637366400  {'temp': 300.23, 'feels_like': 300.18, 'temp_m...   \n",
       "3  1637377200  {'temp': 298.49, 'feels_like': 298.33, 'temp_m...   \n",
       "4  1637388000  {'temp': 301.12, 'feels_like': 301.65, 'temp_m...   \n",
       "\n",
       "                                             weather       clouds  \\\n",
       "0  [{'id': 801, 'main': 'Clouds', 'description': ...  {'all': 11}   \n",
       "1  [{'id': 801, 'main': 'Clouds', 'description': ...  {'all': 14}   \n",
       "2  [{'id': 803, 'main': 'Clouds', 'description': ...  {'all': 55}   \n",
       "3  [{'id': 803, 'main': 'Clouds', 'description': ...  {'all': 73}   \n",
       "4  [{'id': 803, 'main': 'Clouds', 'description': ...  {'all': 82}   \n",
       "\n",
       "                                         wind  visibility  pop           sys  \\\n",
       "0  {'speed': 9.46, 'deg': 118, 'gust': 13.91}       10000    0  {'pod': 'n'}   \n",
       "1  {'speed': 7.36, 'deg': 113, 'gust': 11.75}       10000    0  {'pod': 'n'}   \n",
       "2  {'speed': 7.46, 'deg': 104, 'gust': 11.89}       10000    0  {'pod': 'n'}   \n",
       "3  {'speed': 10.3, 'deg': 102, 'gust': 14.37}       10000    0  {'pod': 'n'}   \n",
       "4   {'speed': 9.3, 'deg': 112, 'gust': 10.27}       10000    0  {'pod': 'd'}   \n",
       "\n",
       "                dt_txt  \n",
       "0  2021-11-19 18:00:00  \n",
       "1  2021-11-19 21:00:00  \n",
       "2  2021-11-20 00:00:00  \n",
       "3  2021-11-20 03:00:00  \n",
       "4  2021-11-20 06:00:00  "
      ]
     },
     "metadata": {},
     "execution_count": 11
    }
   ],
   "metadata": {}
  },
  {
   "cell_type": "code",
   "execution_count": 12,
   "source": [
    "main=dat_weath.main.apply(pd.Series)\n",
    "wind=dat_weath.wind.apply(pd.Series)\n",
    "weather=dat_weath.weather.apply(pd.Series)\n"
   ],
   "outputs": [],
   "metadata": {}
  },
  {
   "cell_type": "code",
   "execution_count": 13,
   "source": [
    "\n",
    "dat_weath = pd.concat([dat_weath, main,wind,weather], axis=1).drop(['main','wind',\n",
    "'weather','clouds','sys',0], axis=1)\n",
    "dat_weath.sample(5)"
   ],
   "outputs": [
    {
     "output_type": "execute_result",
     "data": {
      "text/html": [
       "<div>\n",
       "<style scoped>\n",
       "    .dataframe tbody tr th:only-of-type {\n",
       "        vertical-align: middle;\n",
       "    }\n",
       "\n",
       "    .dataframe tbody tr th {\n",
       "        vertical-align: top;\n",
       "    }\n",
       "\n",
       "    .dataframe thead th {\n",
       "        text-align: right;\n",
       "    }\n",
       "</style>\n",
       "<table border=\"1\" class=\"dataframe\">\n",
       "  <thead>\n",
       "    <tr style=\"text-align: right;\">\n",
       "      <th></th>\n",
       "      <th>dt</th>\n",
       "      <th>visibility</th>\n",
       "      <th>pop</th>\n",
       "      <th>dt_txt</th>\n",
       "      <th>temp</th>\n",
       "      <th>feels_like</th>\n",
       "      <th>temp_min</th>\n",
       "      <th>temp_max</th>\n",
       "      <th>pressure</th>\n",
       "      <th>sea_level</th>\n",
       "      <th>grnd_level</th>\n",
       "      <th>humidity</th>\n",
       "      <th>temp_kf</th>\n",
       "      <th>speed</th>\n",
       "      <th>deg</th>\n",
       "      <th>gust</th>\n",
       "    </tr>\n",
       "  </thead>\n",
       "  <tbody>\n",
       "    <tr>\n",
       "      <th>10</th>\n",
       "      <td>1637452800</td>\n",
       "      <td>10000</td>\n",
       "      <td>0</td>\n",
       "      <td>2021-11-21 00:00:00</td>\n",
       "      <td>300.30</td>\n",
       "      <td>300.29</td>\n",
       "      <td>300.30</td>\n",
       "      <td>300.30</td>\n",
       "      <td>1006.0</td>\n",
       "      <td>1006.0</td>\n",
       "      <td>925.0</td>\n",
       "      <td>43.0</td>\n",
       "      <td>0.0</td>\n",
       "      <td>8.97</td>\n",
       "      <td>104.0</td>\n",
       "      <td>13.33</td>\n",
       "    </tr>\n",
       "    <tr>\n",
       "      <th>37</th>\n",
       "      <td>1637744400</td>\n",
       "      <td>10000</td>\n",
       "      <td>0</td>\n",
       "      <td>2021-11-24 09:00:00</td>\n",
       "      <td>306.41</td>\n",
       "      <td>305.19</td>\n",
       "      <td>306.41</td>\n",
       "      <td>306.41</td>\n",
       "      <td>1009.0</td>\n",
       "      <td>1009.0</td>\n",
       "      <td>929.0</td>\n",
       "      <td>28.0</td>\n",
       "      <td>0.0</td>\n",
       "      <td>8.10</td>\n",
       "      <td>105.0</td>\n",
       "      <td>7.66</td>\n",
       "    </tr>\n",
       "    <tr>\n",
       "      <th>9</th>\n",
       "      <td>1637442000</td>\n",
       "      <td>10000</td>\n",
       "      <td>0</td>\n",
       "      <td>2021-11-20 21:00:00</td>\n",
       "      <td>302.07</td>\n",
       "      <td>301.43</td>\n",
       "      <td>302.07</td>\n",
       "      <td>302.07</td>\n",
       "      <td>1007.0</td>\n",
       "      <td>1007.0</td>\n",
       "      <td>927.0</td>\n",
       "      <td>37.0</td>\n",
       "      <td>0.0</td>\n",
       "      <td>9.64</td>\n",
       "      <td>111.0</td>\n",
       "      <td>14.30</td>\n",
       "    </tr>\n",
       "    <tr>\n",
       "      <th>36</th>\n",
       "      <td>1637733600</td>\n",
       "      <td>10000</td>\n",
       "      <td>0</td>\n",
       "      <td>2021-11-24 06:00:00</td>\n",
       "      <td>302.48</td>\n",
       "      <td>302.10</td>\n",
       "      <td>302.48</td>\n",
       "      <td>302.48</td>\n",
       "      <td>1011.0</td>\n",
       "      <td>1011.0</td>\n",
       "      <td>930.0</td>\n",
       "      <td>40.0</td>\n",
       "      <td>0.0</td>\n",
       "      <td>8.21</td>\n",
       "      <td>103.0</td>\n",
       "      <td>9.21</td>\n",
       "    </tr>\n",
       "    <tr>\n",
       "      <th>5</th>\n",
       "      <td>1637398800</td>\n",
       "      <td>10000</td>\n",
       "      <td>0</td>\n",
       "      <td>2021-11-20 09:00:00</td>\n",
       "      <td>305.66</td>\n",
       "      <td>305.28</td>\n",
       "      <td>305.66</td>\n",
       "      <td>305.66</td>\n",
       "      <td>1008.0</td>\n",
       "      <td>1008.0</td>\n",
       "      <td>928.0</td>\n",
       "      <td>35.0</td>\n",
       "      <td>0.0</td>\n",
       "      <td>8.72</td>\n",
       "      <td>106.0</td>\n",
       "      <td>7.32</td>\n",
       "    </tr>\n",
       "  </tbody>\n",
       "</table>\n",
       "</div>"
      ],
      "text/plain": [
       "            dt  visibility  pop               dt_txt    temp  feels_like  \\\n",
       "10  1637452800       10000    0  2021-11-21 00:00:00  300.30      300.29   \n",
       "37  1637744400       10000    0  2021-11-24 09:00:00  306.41      305.19   \n",
       "9   1637442000       10000    0  2021-11-20 21:00:00  302.07      301.43   \n",
       "36  1637733600       10000    0  2021-11-24 06:00:00  302.48      302.10   \n",
       "5   1637398800       10000    0  2021-11-20 09:00:00  305.66      305.28   \n",
       "\n",
       "    temp_min  temp_max  pressure  sea_level  grnd_level  humidity  temp_kf  \\\n",
       "10    300.30    300.30    1006.0     1006.0       925.0      43.0      0.0   \n",
       "37    306.41    306.41    1009.0     1009.0       929.0      28.0      0.0   \n",
       "9     302.07    302.07    1007.0     1007.0       927.0      37.0      0.0   \n",
       "36    302.48    302.48    1011.0     1011.0       930.0      40.0      0.0   \n",
       "5     305.66    305.66    1008.0     1008.0       928.0      35.0      0.0   \n",
       "\n",
       "    speed    deg   gust  \n",
       "10   8.97  104.0  13.33  \n",
       "37   8.10  105.0   7.66  \n",
       "9    9.64  111.0  14.30  \n",
       "36   8.21  103.0   9.21  \n",
       "5    8.72  106.0   7.32  "
      ]
     },
     "metadata": {},
     "execution_count": 13
    }
   ],
   "metadata": {}
  },
  {
   "cell_type": "code",
   "execution_count": null,
   "source": [],
   "outputs": [],
   "metadata": {}
  },
  {
   "cell_type": "code",
   "execution_count": 14,
   "source": [
    "dat_weath.columns"
   ],
   "outputs": [
    {
     "output_type": "execute_result",
     "data": {
      "text/plain": [
       "Index(['dt', 'visibility', 'pop', 'dt_txt', 'temp', 'feels_like', 'temp_min',\n",
       "       'temp_max', 'pressure', 'sea_level', 'grnd_level', 'humidity',\n",
       "       'temp_kf', 'speed', 'deg', 'gust'],\n",
       "      dtype='object')"
      ]
     },
     "metadata": {},
     "execution_count": 14
    }
   ],
   "metadata": {}
  },
  {
   "cell_type": "code",
   "execution_count": 15,
   "source": [
    "dat_weath.dtypes"
   ],
   "outputs": [
    {
     "output_type": "execute_result",
     "data": {
      "text/plain": [
       "dt              int64\n",
       "visibility      int64\n",
       "pop             int64\n",
       "dt_txt         object\n",
       "temp          float64\n",
       "feels_like    float64\n",
       "temp_min      float64\n",
       "temp_max      float64\n",
       "pressure      float64\n",
       "sea_level     float64\n",
       "grnd_level    float64\n",
       "humidity      float64\n",
       "temp_kf       float64\n",
       "speed         float64\n",
       "deg           float64\n",
       "gust          float64\n",
       "dtype: object"
      ]
     },
     "metadata": {},
     "execution_count": 15
    }
   ],
   "metadata": {}
  },
  {
   "cell_type": "code",
   "execution_count": 16,
   "source": [
    "dat_weath.columns"
   ],
   "outputs": [
    {
     "output_type": "execute_result",
     "data": {
      "text/plain": [
       "Index(['dt', 'visibility', 'pop', 'dt_txt', 'temp', 'feels_like', 'temp_min',\n",
       "       'temp_max', 'pressure', 'sea_level', 'grnd_level', 'humidity',\n",
       "       'temp_kf', 'speed', 'deg', 'gust'],\n",
       "      dtype='object')"
      ]
     },
     "metadata": {},
     "execution_count": 16
    }
   ],
   "metadata": {}
  },
  {
   "cell_type": "code",
   "execution_count": 17,
   "source": [
    "dat_weath['temp']=dat_weath['temp']+273\n",
    "dat_weath['pressure']=dat_weath['pressure']*100\n",
    "\n",
    "dat_weath=dat_weath[['dt_txt','speed','temp', 'pressure']]\n",
    "\n",
    "dat_weath=dat_weath.rename(columns={'speed':'wind_speed','temp':'temperature','pressure':'pressure'})\n",
    "\n",
    "dat_weath=dat_weath.set_index('dt_txt')\n",
    "dat_weath.tail(5)"
   ],
   "outputs": [
    {
     "output_type": "execute_result",
     "data": {
      "text/html": [
       "<div>\n",
       "<style scoped>\n",
       "    .dataframe tbody tr th:only-of-type {\n",
       "        vertical-align: middle;\n",
       "    }\n",
       "\n",
       "    .dataframe tbody tr th {\n",
       "        vertical-align: top;\n",
       "    }\n",
       "\n",
       "    .dataframe thead th {\n",
       "        text-align: right;\n",
       "    }\n",
       "</style>\n",
       "<table border=\"1\" class=\"dataframe\">\n",
       "  <thead>\n",
       "    <tr style=\"text-align: right;\">\n",
       "      <th></th>\n",
       "      <th>wind_speed</th>\n",
       "      <th>temperature</th>\n",
       "      <th>pressure</th>\n",
       "    </tr>\n",
       "    <tr>\n",
       "      <th>dt_txt</th>\n",
       "      <th></th>\n",
       "      <th></th>\n",
       "      <th></th>\n",
       "    </tr>\n",
       "  </thead>\n",
       "  <tbody>\n",
       "    <tr>\n",
       "      <th>2021-11-24 03:00:00</th>\n",
       "      <td>4.71</td>\n",
       "      <td>570.50</td>\n",
       "      <td>100900.0</td>\n",
       "    </tr>\n",
       "    <tr>\n",
       "      <th>2021-11-24 06:00:00</th>\n",
       "      <td>8.21</td>\n",
       "      <td>575.48</td>\n",
       "      <td>101100.0</td>\n",
       "    </tr>\n",
       "    <tr>\n",
       "      <th>2021-11-24 09:00:00</th>\n",
       "      <td>8.10</td>\n",
       "      <td>579.41</td>\n",
       "      <td>100900.0</td>\n",
       "    </tr>\n",
       "    <tr>\n",
       "      <th>2021-11-24 12:00:00</th>\n",
       "      <td>5.92</td>\n",
       "      <td>580.51</td>\n",
       "      <td>100500.0</td>\n",
       "    </tr>\n",
       "    <tr>\n",
       "      <th>2021-11-24 15:00:00</th>\n",
       "      <td>6.22</td>\n",
       "      <td>579.29</td>\n",
       "      <td>100500.0</td>\n",
       "    </tr>\n",
       "  </tbody>\n",
       "</table>\n",
       "</div>"
      ],
      "text/plain": [
       "                     wind_speed  temperature  pressure\n",
       "dt_txt                                                \n",
       "2021-11-24 03:00:00        4.71       570.50  100900.0\n",
       "2021-11-24 06:00:00        8.21       575.48  101100.0\n",
       "2021-11-24 09:00:00        8.10       579.41  100900.0\n",
       "2021-11-24 12:00:00        5.92       580.51  100500.0\n",
       "2021-11-24 15:00:00        6.22       579.29  100500.0"
      ]
     },
     "metadata": {},
     "execution_count": 17
    }
   ],
   "metadata": {}
  },
  {
   "cell_type": "code",
   "execution_count": 18,
   "source": [
    "dat_weath.head(5)"
   ],
   "outputs": [
    {
     "output_type": "execute_result",
     "data": {
      "text/html": [
       "<div>\n",
       "<style scoped>\n",
       "    .dataframe tbody tr th:only-of-type {\n",
       "        vertical-align: middle;\n",
       "    }\n",
       "\n",
       "    .dataframe tbody tr th {\n",
       "        vertical-align: top;\n",
       "    }\n",
       "\n",
       "    .dataframe thead th {\n",
       "        text-align: right;\n",
       "    }\n",
       "</style>\n",
       "<table border=\"1\" class=\"dataframe\">\n",
       "  <thead>\n",
       "    <tr style=\"text-align: right;\">\n",
       "      <th></th>\n",
       "      <th>wind_speed</th>\n",
       "      <th>temperature</th>\n",
       "      <th>pressure</th>\n",
       "    </tr>\n",
       "    <tr>\n",
       "      <th>dt_txt</th>\n",
       "      <th></th>\n",
       "      <th></th>\n",
       "      <th></th>\n",
       "    </tr>\n",
       "  </thead>\n",
       "  <tbody>\n",
       "    <tr>\n",
       "      <th>2021-11-19 18:00:00</th>\n",
       "      <td>9.46</td>\n",
       "      <td>577.70</td>\n",
       "      <td>100700.0</td>\n",
       "    </tr>\n",
       "    <tr>\n",
       "      <th>2021-11-19 21:00:00</th>\n",
       "      <td>7.36</td>\n",
       "      <td>575.77</td>\n",
       "      <td>100700.0</td>\n",
       "    </tr>\n",
       "    <tr>\n",
       "      <th>2021-11-20 00:00:00</th>\n",
       "      <td>7.46</td>\n",
       "      <td>573.23</td>\n",
       "      <td>100700.0</td>\n",
       "    </tr>\n",
       "    <tr>\n",
       "      <th>2021-11-20 03:00:00</th>\n",
       "      <td>10.30</td>\n",
       "      <td>571.49</td>\n",
       "      <td>101000.0</td>\n",
       "    </tr>\n",
       "    <tr>\n",
       "      <th>2021-11-20 06:00:00</th>\n",
       "      <td>9.30</td>\n",
       "      <td>574.12</td>\n",
       "      <td>101100.0</td>\n",
       "    </tr>\n",
       "  </tbody>\n",
       "</table>\n",
       "</div>"
      ],
      "text/plain": [
       "                     wind_speed  temperature  pressure\n",
       "dt_txt                                                \n",
       "2021-11-19 18:00:00        9.46       577.70  100700.0\n",
       "2021-11-19 21:00:00        7.36       575.77  100700.0\n",
       "2021-11-20 00:00:00        7.46       573.23  100700.0\n",
       "2021-11-20 03:00:00       10.30       571.49  101000.0\n",
       "2021-11-20 06:00:00        9.30       574.12  101100.0"
      ]
     },
     "metadata": {},
     "execution_count": 18
    }
   ],
   "metadata": {}
  },
  {
   "cell_type": "code",
   "execution_count": 19,
   "source": [
    "type(dat_weath.index)"
   ],
   "outputs": [
    {
     "output_type": "execute_result",
     "data": {
      "text/plain": [
       "pandas.core.indexes.base.Index"
      ]
     },
     "metadata": {},
     "execution_count": 19
    }
   ],
   "metadata": {}
  },
  {
   "cell_type": "code",
   "execution_count": 20,
   "source": [
    "# height=[60,60,10,0]\n",
    "# variable_name=['wind_speed','temperature','pressure']"
   ],
   "outputs": [],
   "metadata": {}
  },
  {
   "cell_type": "code",
   "execution_count": 21,
   "source": [
    "# dat_weath=pd.concat([dat_weath], axis=1, keys=height)"
   ],
   "outputs": [],
   "metadata": {}
  },
  {
   "cell_type": "code",
   "execution_count": 22,
   "source": [
    "dat_weath.head()"
   ],
   "outputs": [
    {
     "output_type": "execute_result",
     "data": {
      "text/html": [
       "<div>\n",
       "<style scoped>\n",
       "    .dataframe tbody tr th:only-of-type {\n",
       "        vertical-align: middle;\n",
       "    }\n",
       "\n",
       "    .dataframe tbody tr th {\n",
       "        vertical-align: top;\n",
       "    }\n",
       "\n",
       "    .dataframe thead th {\n",
       "        text-align: right;\n",
       "    }\n",
       "</style>\n",
       "<table border=\"1\" class=\"dataframe\">\n",
       "  <thead>\n",
       "    <tr style=\"text-align: right;\">\n",
       "      <th></th>\n",
       "      <th>wind_speed</th>\n",
       "      <th>temperature</th>\n",
       "      <th>pressure</th>\n",
       "    </tr>\n",
       "    <tr>\n",
       "      <th>dt_txt</th>\n",
       "      <th></th>\n",
       "      <th></th>\n",
       "      <th></th>\n",
       "    </tr>\n",
       "  </thead>\n",
       "  <tbody>\n",
       "    <tr>\n",
       "      <th>2021-11-19 18:00:00</th>\n",
       "      <td>9.46</td>\n",
       "      <td>577.70</td>\n",
       "      <td>100700.0</td>\n",
       "    </tr>\n",
       "    <tr>\n",
       "      <th>2021-11-19 21:00:00</th>\n",
       "      <td>7.36</td>\n",
       "      <td>575.77</td>\n",
       "      <td>100700.0</td>\n",
       "    </tr>\n",
       "    <tr>\n",
       "      <th>2021-11-20 00:00:00</th>\n",
       "      <td>7.46</td>\n",
       "      <td>573.23</td>\n",
       "      <td>100700.0</td>\n",
       "    </tr>\n",
       "    <tr>\n",
       "      <th>2021-11-20 03:00:00</th>\n",
       "      <td>10.30</td>\n",
       "      <td>571.49</td>\n",
       "      <td>101000.0</td>\n",
       "    </tr>\n",
       "    <tr>\n",
       "      <th>2021-11-20 06:00:00</th>\n",
       "      <td>9.30</td>\n",
       "      <td>574.12</td>\n",
       "      <td>101100.0</td>\n",
       "    </tr>\n",
       "  </tbody>\n",
       "</table>\n",
       "</div>"
      ],
      "text/plain": [
       "                     wind_speed  temperature  pressure\n",
       "dt_txt                                                \n",
       "2021-11-19 18:00:00        9.46       577.70  100700.0\n",
       "2021-11-19 21:00:00        7.36       575.77  100700.0\n",
       "2021-11-20 00:00:00        7.46       573.23  100700.0\n",
       "2021-11-20 03:00:00       10.30       571.49  101000.0\n",
       "2021-11-20 06:00:00        9.30       574.12  101100.0"
      ]
     },
     "metadata": {},
     "execution_count": 22
    }
   ],
   "metadata": {}
  },
  {
   "cell_type": "code",
   "execution_count": 23,
   "source": [
    "dat_weath['roughness_length']=0.001\n",
    "dat_weath.head()"
   ],
   "outputs": [
    {
     "output_type": "execute_result",
     "data": {
      "text/html": [
       "<div>\n",
       "<style scoped>\n",
       "    .dataframe tbody tr th:only-of-type {\n",
       "        vertical-align: middle;\n",
       "    }\n",
       "\n",
       "    .dataframe tbody tr th {\n",
       "        vertical-align: top;\n",
       "    }\n",
       "\n",
       "    .dataframe thead th {\n",
       "        text-align: right;\n",
       "    }\n",
       "</style>\n",
       "<table border=\"1\" class=\"dataframe\">\n",
       "  <thead>\n",
       "    <tr style=\"text-align: right;\">\n",
       "      <th></th>\n",
       "      <th>wind_speed</th>\n",
       "      <th>temperature</th>\n",
       "      <th>pressure</th>\n",
       "      <th>roughness_length</th>\n",
       "    </tr>\n",
       "    <tr>\n",
       "      <th>dt_txt</th>\n",
       "      <th></th>\n",
       "      <th></th>\n",
       "      <th></th>\n",
       "      <th></th>\n",
       "    </tr>\n",
       "  </thead>\n",
       "  <tbody>\n",
       "    <tr>\n",
       "      <th>2021-11-19 18:00:00</th>\n",
       "      <td>9.46</td>\n",
       "      <td>577.70</td>\n",
       "      <td>100700.0</td>\n",
       "      <td>0.001</td>\n",
       "    </tr>\n",
       "    <tr>\n",
       "      <th>2021-11-19 21:00:00</th>\n",
       "      <td>7.36</td>\n",
       "      <td>575.77</td>\n",
       "      <td>100700.0</td>\n",
       "      <td>0.001</td>\n",
       "    </tr>\n",
       "    <tr>\n",
       "      <th>2021-11-20 00:00:00</th>\n",
       "      <td>7.46</td>\n",
       "      <td>573.23</td>\n",
       "      <td>100700.0</td>\n",
       "      <td>0.001</td>\n",
       "    </tr>\n",
       "    <tr>\n",
       "      <th>2021-11-20 03:00:00</th>\n",
       "      <td>10.30</td>\n",
       "      <td>571.49</td>\n",
       "      <td>101000.0</td>\n",
       "      <td>0.001</td>\n",
       "    </tr>\n",
       "    <tr>\n",
       "      <th>2021-11-20 06:00:00</th>\n",
       "      <td>9.30</td>\n",
       "      <td>574.12</td>\n",
       "      <td>101100.0</td>\n",
       "      <td>0.001</td>\n",
       "    </tr>\n",
       "  </tbody>\n",
       "</table>\n",
       "</div>"
      ],
      "text/plain": [
       "                     wind_speed  temperature  pressure  roughness_length\n",
       "dt_txt                                                                  \n",
       "2021-11-19 18:00:00        9.46       577.70  100700.0             0.001\n",
       "2021-11-19 21:00:00        7.36       575.77  100700.0             0.001\n",
       "2021-11-20 00:00:00        7.46       573.23  100700.0             0.001\n",
       "2021-11-20 03:00:00       10.30       571.49  101000.0             0.001\n",
       "2021-11-20 06:00:00        9.30       574.12  101100.0             0.001"
      ]
     },
     "metadata": {},
     "execution_count": 23
    }
   ],
   "metadata": {}
  },
  {
   "cell_type": "code",
   "execution_count": 24,
   "source": [
    "height=[60]"
   ],
   "outputs": [],
   "metadata": {}
  },
  {
   "cell_type": "code",
   "execution_count": 25,
   "source": [
    "dat_weath['height'] = 8\n",
    "dat_weath = dat_weath.set_index('height', append=True).unstack('height')"
   ],
   "outputs": [],
   "metadata": {}
  },
  {
   "cell_type": "code",
   "execution_count": 26,
   "source": [
    "dat_weath.head()"
   ],
   "outputs": [
    {
     "output_type": "execute_result",
     "data": {
      "text/html": [
       "<div>\n",
       "<style scoped>\n",
       "    .dataframe tbody tr th:only-of-type {\n",
       "        vertical-align: middle;\n",
       "    }\n",
       "\n",
       "    .dataframe tbody tr th {\n",
       "        vertical-align: top;\n",
       "    }\n",
       "\n",
       "    .dataframe thead tr th {\n",
       "        text-align: left;\n",
       "    }\n",
       "\n",
       "    .dataframe thead tr:last-of-type th {\n",
       "        text-align: right;\n",
       "    }\n",
       "</style>\n",
       "<table border=\"1\" class=\"dataframe\">\n",
       "  <thead>\n",
       "    <tr>\n",
       "      <th></th>\n",
       "      <th>wind_speed</th>\n",
       "      <th>temperature</th>\n",
       "      <th>pressure</th>\n",
       "      <th>roughness_length</th>\n",
       "    </tr>\n",
       "    <tr>\n",
       "      <th>height</th>\n",
       "      <th>8</th>\n",
       "      <th>8</th>\n",
       "      <th>8</th>\n",
       "      <th>8</th>\n",
       "    </tr>\n",
       "    <tr>\n",
       "      <th>dt_txt</th>\n",
       "      <th></th>\n",
       "      <th></th>\n",
       "      <th></th>\n",
       "      <th></th>\n",
       "    </tr>\n",
       "  </thead>\n",
       "  <tbody>\n",
       "    <tr>\n",
       "      <th>2021-11-19 18:00:00</th>\n",
       "      <td>9.46</td>\n",
       "      <td>577.70</td>\n",
       "      <td>100700.0</td>\n",
       "      <td>0.001</td>\n",
       "    </tr>\n",
       "    <tr>\n",
       "      <th>2021-11-19 21:00:00</th>\n",
       "      <td>7.36</td>\n",
       "      <td>575.77</td>\n",
       "      <td>100700.0</td>\n",
       "      <td>0.001</td>\n",
       "    </tr>\n",
       "    <tr>\n",
       "      <th>2021-11-20 00:00:00</th>\n",
       "      <td>7.46</td>\n",
       "      <td>573.23</td>\n",
       "      <td>100700.0</td>\n",
       "      <td>0.001</td>\n",
       "    </tr>\n",
       "    <tr>\n",
       "      <th>2021-11-20 03:00:00</th>\n",
       "      <td>10.30</td>\n",
       "      <td>571.49</td>\n",
       "      <td>101000.0</td>\n",
       "      <td>0.001</td>\n",
       "    </tr>\n",
       "    <tr>\n",
       "      <th>2021-11-20 06:00:00</th>\n",
       "      <td>9.30</td>\n",
       "      <td>574.12</td>\n",
       "      <td>101100.0</td>\n",
       "      <td>0.001</td>\n",
       "    </tr>\n",
       "  </tbody>\n",
       "</table>\n",
       "</div>"
      ],
      "text/plain": [
       "                    wind_speed temperature  pressure roughness_length\n",
       "height                       8           8         8                8\n",
       "dt_txt                                                               \n",
       "2021-11-19 18:00:00       9.46      577.70  100700.0            0.001\n",
       "2021-11-19 21:00:00       7.36      575.77  100700.0            0.001\n",
       "2021-11-20 00:00:00       7.46      573.23  100700.0            0.001\n",
       "2021-11-20 03:00:00      10.30      571.49  101000.0            0.001\n",
       "2021-11-20 06:00:00       9.30      574.12  101100.0            0.001"
      ]
     },
     "metadata": {},
     "execution_count": 26
    }
   ],
   "metadata": {}
  },
  {
   "cell_type": "code",
   "execution_count": null,
   "source": [],
   "outputs": [],
   "metadata": {}
  },
  {
   "cell_type": "code",
   "execution_count": 27,
   "source": [
    "# dat_weath.columns = pd.MultiIndex.from_tuples([dat_weath.columns, height])"
   ],
   "outputs": [],
   "metadata": {}
  },
  {
   "cell_type": "markdown",
   "source": [
    "## Wind App"
   ],
   "metadata": {}
  },
  {
   "cell_type": "code",
   "execution_count": null,
   "source": [],
   "outputs": [],
   "metadata": {}
  },
  {
   "cell_type": "markdown",
   "source": [
    "There are three ways to initialize a WindTurbine object in the windpowerlib. You can either use turbine data from the OpenEnergy Database (oedb) turbine library that is provided along with the windpowerlib, as done for the 'enercon_e126', or specify your own turbine by directly providing a power (coefficient) curve, as done below for 'my_turbine', or provide your own turbine data in csv files, as done for 'my_turbine2'.\n",
    "\n",
    "You can execute the following to get a table of all wind turbines for which power and/or power coefficient curves are provided."
   ],
   "metadata": {}
  },
  {
   "cell_type": "code",
   "execution_count": 28,
   "source": [
    "# specification of own wind turbine (Note: power curve values and\n",
    "# nominal power have to be in Watt)\n",
    "my_vestas_turbine = {\n",
    "    'nominal_power': 850e3,  # in W\n",
    "    'hub_height': 60,  # in m\n",
    "    'power_curve': pd.DataFrame(\n",
    "            data={'value': [p * 1000 for p in [\n",
    "                      0,1.7,30.8,77.4,139.7,211.6,294.1,438.9,578.4,668,783.6,819.4,841.8,850.4,851.9]],  # in W\n",
    "                  'wind_speed': [0.0,3.0,4.0, 5.0,6.0,7.0,8.0,9.0,10.0,\n",
    "                                 11.0,12.0,13.0,14.0, 15.0,16.0]})  # in m/s\n",
    "    }  \n",
    "# initialiss_ze WindTurbine object.\n",
    "my_vestas_turbine = WindTurbine(**my_vestas_turbine)"
   ],
   "outputs": [],
   "metadata": {}
  },
  {
   "cell_type": "code",
   "execution_count": 29,
   "source": [
    "my_vestas_turbine"
   ],
   "outputs": [
    {
     "output_type": "execute_result",
     "data": {
      "text/plain": [
       "Wind turbine: ['nominal power=850000.0 W', 'hub height=60 m', 'power_coefficient_curve=False', 'power_curve=True']"
      ]
     },
     "metadata": {},
     "execution_count": 29
    }
   ],
   "metadata": {}
  },
  {
   "cell_type": "code",
   "execution_count": null,
   "source": [],
   "outputs": [],
   "metadata": {}
  },
  {
   "cell_type": "markdown",
   "source": [
    "### Use the ModelChain to calculate turbine power output\n",
    "\n",
    "The ModelChain is a class that provides all necessary steps to calculate the power output of a wind turbine. When calling the 'run_model' method, first the wind speed and density (if necessary) at hub height are calculated and then used to calculate the power output. You can either use the default methods for the calculation steps, as done for 'my_turbine', or choose different methods, as done for the 'e126'. Of course, you can also use the default methods while only changing one or two of them, as done for 'my_turbine2'."
   ],
   "metadata": {}
  },
  {
   "cell_type": "code",
   "execution_count": 31,
   "source": [
    "#power output calculation for e126\n",
    "\n",
    "# own specifications for ModelChain setup\n",
    "modelchain_data = {\n",
    "    'wind_speed_model': 'logarithmic',      # 'logarithmic' (default),\n",
    "                                            # 'hellman' or\n",
    "                                            # 'interpolation_extrapolation'\n",
    "    'density_model': 'ideal_gas',           # 'barometric' (default), 'ideal_gas'\n",
    "                                            #  or 'interpolation_extrapolation'\n",
    "    'temperature_model': 'linear_gradient', # 'linear_gradient' (def.) or\n",
    "                                            # 'interpolation_extrapolation'\n",
    "    'power_output_model':\n",
    "        'power_coefficient_curve',          # 'power_curve' (default) or\n",
    "                                            # 'power_coefficient_curve'\n",
    "    'density_correction': True,             # False (default) or True\n",
    "    'obstacle_height': 0,                   # default: 0\n",
    "    'hellman_exp': None}                    # None (default) or None\n",
    "\n",
    "# # initialize ModelChain with own specifications and use run_model method to\n",
    "# # calculate power output\n",
    "# mc_e126 = ModelChain(e126, **modelchain_data).run_model(\n",
    "#     weather)\n",
    "# # write power output time series to WindTurbine object\n",
    "# e126.power_output = mc_e126.power_output"
   ],
   "outputs": [],
   "metadata": {}
  },
  {
   "cell_type": "code",
   "execution_count": 32,
   "source": [
    "# power output calculation for example_turbine\n",
    "# own specification for 'power_output_model'\n",
    "mc_example_turbine = ModelChain(\n",
    "    my_vestas_turbine,\n",
    "    wind_speed_model='hellman').run_model(dat_weath)\n",
    "my_vestas_turbine.power_output = mc_example_turbine.power_output"
   ],
   "outputs": [
    {
     "output_type": "stream",
     "name": "stderr",
     "text": [
      "DEBUG:root:Calculating wind speed using hellman equation.\n",
      "DEBUG:root:Calculating power output using power curve.\n"
     ]
    }
   ],
   "metadata": {}
  },
  {
   "cell_type": "code",
   "execution_count": 33,
   "source": [
    "my_vestas_turbine.power_output"
   ],
   "outputs": [
    {
     "output_type": "execute_result",
     "data": {
      "text/plain": [
       "dt_txt\n",
       "2021-11-19 18:00:00    709763.103618\n",
       "2021-11-19 21:00:00    415618.207507\n",
       "2021-11-20 00:00:00    433008.400544\n",
       "2021-11-20 03:00:00    796849.432347\n",
       "2021-11-20 06:00:00    687549.774170\n",
       "2021-11-20 09:00:00    620740.228035\n",
       "2021-11-20 12:00:00    542122.924115\n",
       "2021-11-20 15:00:00    796419.481442\n",
       "2021-11-20 18:00:00    715316.435980\n",
       "2021-11-20 21:00:00    734753.099247\n",
       "2021-11-21 00:00:00    647642.184114\n",
       "2021-11-21 03:00:00    733364.766156\n",
       "2021-11-21 06:00:00    791260.070579\n",
       "2021-11-21 09:00:00    835689.357983\n",
       "2021-11-21 12:00:00    736141.432337\n",
       "2021-11-21 15:00:00    806308.352261\n",
       "2021-11-21 18:00:00    826273.673355\n",
       "2021-11-21 21:00:00    697268.105803\n",
       "2021-11-22 00:00:00    592762.193713\n",
       "2021-11-22 03:00:00    772238.092691\n",
       "2021-11-22 06:00:00    784380.856096\n",
       "2021-11-22 09:00:00    814047.468554\n",
       "2021-11-22 12:00:00    768073.093419\n",
       "2021-11-22 15:00:00    804588.548640\n",
       "2021-11-22 18:00:00    659479.044789\n",
       "2021-11-22 21:00:00    520343.148513\n",
       "2021-11-23 00:00:00    386054.879344\n",
       "2021-11-23 03:00:00    121300.060387\n",
       "2021-11-23 06:00:00    628272.775737\n",
       "2021-11-23 09:00:00    789540.266959\n",
       "2021-11-23 12:00:00    543798.291469\n",
       "2021-11-23 15:00:00    543798.291469\n",
       "2021-11-23 18:00:00    654098.653573\n",
       "2021-11-23 21:00:00    490186.536141\n",
       "2021-11-24 00:00:00    493537.270849\n",
       "2021-11-24 03:00:00    118307.217774\n",
       "2021-11-24 06:00:00    558876.597656\n",
       "2021-11-24 09:00:00    540447.556761\n",
       "2021-11-24 12:00:00    220658.720937\n",
       "2021-11-24 15:00:00    250382.980443\n",
       "Name: feedin_power_plant, dtype: float64"
      ]
     },
     "metadata": {},
     "execution_count": 33
    }
   ],
   "metadata": {}
  },
  {
   "cell_type": "markdown",
   "source": [
    "### Plot results\n",
    "\n",
    "If you have matplotlib installed you can visualize the calculated power output and used power (coefficient) curves."
   ],
   "metadata": {}
  },
  {
   "cell_type": "code",
   "execution_count": 34,
   "source": [
    "# try to import matplotlib\n",
    "logging.getLogger().setLevel(logging.WARNING)\n",
    "try:\n",
    "    from matplotlib import pyplot as plt\n",
    "    # matplotlib inline needed in notebook to plot inline\n",
    "    %matplotlib inline \n",
    "except ImportError:\n",
    "    plt = None"
   ],
   "outputs": [],
   "metadata": {}
  },
  {
   "cell_type": "code",
   "execution_count": 35,
   "source": [
    "my_vestas_turbine.power_output=(my_vestas_turbine.power_output)*365/10**6\n",
    "my_vestas_turbine.power_output\n",
    "pout=my_vestas_turbine.power_output.reset_index()"
   ],
   "outputs": [],
   "metadata": {}
  },
  {
   "cell_type": "code",
   "execution_count": 36,
   "source": [
    "pout['timestamp_local']=pd.to_datetime(pout['dt_txt'])\n",
    "pout.set_index('timestamp_local',inplace=True)"
   ],
   "outputs": [],
   "metadata": {}
  },
  {
   "cell_type": "code",
   "execution_count": 37,
   "source": [
    "# plot turbine power output\n",
    "plt.figure(figsize=(12,5))\n",
    "if plt:\n",
    "#     e126.power_output.plot(legend=True, label='Enercon E126')\n",
    "#     my_turbine.power_output.plot(legend=True, label='myTurbine')\n",
    "    pout['feedin_power_plant'].plot(legend=True, label='LTWP')\n",
    "    plt.title('LTWP Forecast')\n",
    "    plt.xlabel('Time')\n",
    "    plt.ylabel('Power in MW')\n",
    "    plt.show()"
   ],
   "outputs": [
    {
     "output_type": "display_data",
     "data": {
      "image/png": "[encoded data removed]",
      "text/plain": [
       "<Figure size 864x360 with 1 Axes>"
      ]
     },
     "metadata": {
      "needs_background": "light"
     }
    }
   ],
   "metadata": {
    "scrolled": true
   }
  },
  {
   "cell_type": "code",
   "execution_count": null,
   "source": [],
   "outputs": [],
   "metadata": {}
  },
  {
   "cell_type": "code",
   "execution_count": 38,
   "source": [
    "# plot power (coefficient) curves\n",
    "if plt:\n",
    "\n",
    "    if my_vestas_turbine.power_coefficient_curve is not None:\n",
    "        my_vestas_turbine.power_coefficient_curve.plot(\n",
    "            x='wind_speed', y='value', style='*',\n",
    "            title='myTurbine2 power coefficient curve')\n",
    "        plt.xlabel('Wind speed in m/s')\n",
    "        plt.ylabel('Power in W')\n",
    "        plt.show()\n",
    "    if my_vestas_turbine.power_curve is not None:\n",
    "        my_vestas_turbine.power_curve.plot(x='wind_speed', y='value', style='*',\n",
    "                                    title='Vestas V52/800kW power curve')\n",
    "        plt.xlabel('Wind speed in m/s')\n",
    "        plt.ylabel('Power in W')\n",
    "        plt.show()"
   ],
   "outputs": [
    {
     "output_type": "display_data",
     "data": {
      "image/png": "[encoded data removed]",
      "text/plain": [
       "<Figure size 432x288 with 1 Axes>"
      ]
     },
     "metadata": {
      "needs_background": "light"
     }
    }
   ],
   "metadata": {}
  },
  {
   "cell_type": "code",
   "execution_count": null,
   "source": [],
   "outputs": [],
   "metadata": {}
  }
 ],
 "metadata": {
  "kernelspec": {
   "name": "python3",
   "display_name": "Python 3.8.8 64-bit ('base': conda)"
  },
  "language_info": {
   "codemirror_mode": {
    "name": "ipython",
    "version": 3
   },
   "file_extension": ".py",
   "mimetype": "text/x-python",
   "name": "python",
   "nbconvert_exporter": "python",
   "pygments_lexer": "ipython3",
   "version": "3.8.8"
  },
  "interpreter": {
   "hash": "8e05ea19ac53927786cc9af24ae3cb99d996d24fae337813fc24a608d2fa2161"
  }
 },
 "nbformat": 4,
 "nbformat_minor": 1
}